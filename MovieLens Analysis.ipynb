{
 "cells": [
  {
   "cell_type": "markdown",
   "metadata": {},
   "source": [
    "## MovieLens Analysis\n",
    "### By: Carter Carlson"
   ]
  },
  {
   "cell_type": "code",
   "execution_count": 1,
   "metadata": {},
   "outputs": [],
   "source": [
    "import pandas as pd\n",
    "import numpy as np\n",
    "import datetime\n",
    "import re\n",
    "import scipy\n",
    "import matplotlib.pyplot as plt\n",
    "\n",
    "movies = pd.read_csv('../Data/movies.csv')\n",
    "ratings = pd.read_csv('../Data/ratings.csv')"
   ]
  },
  {
   "cell_type": "markdown",
   "metadata": {},
   "source": [
    "### Optimizing table size"
   ]
  },
  {
   "cell_type": "code",
   "execution_count": 2,
   "metadata": {},
   "outputs": [
    {
     "name": "stdout",
     "output_type": "stream",
     "text": [
      "Ratings: original data\n",
      "\n",
      "<class 'pandas.core.frame.DataFrame'>\n",
      "RangeIndex: 20000263 entries, 0 to 20000262\n",
      "Data columns (total 4 columns):\n",
      "userId       int64\n",
      "movieId      int64\n",
      "rating       float64\n",
      "timestamp    int64\n",
      "dtypes: float64(1), int64(3)\n",
      "memory usage: 610.4 MB\n",
      "None\n",
      "\n",
      "\n",
      "Ratings: optimized data\n",
      "\n",
      "<class 'pandas.core.frame.DataFrame'>\n",
      "RangeIndex: 20000263 entries, 0 to 20000262\n",
      "Data columns (total 2 columns):\n",
      "rating     int8\n",
      "movieId    int32\n",
      "dtypes: int32(1), int8(1)\n",
      "memory usage: 95.4 MB\n",
      "None\n"
     ]
    }
   ],
   "source": [
    "# Original memory usage of dataset\n",
    "print('Ratings: original data\\n')\n",
    "print(ratings.info(memory_usage='deep'))\n",
    "\n",
    "## Convert ratings to a 1-10 scale and finish cleaning table\n",
    "ratings['rating'] *= 2\n",
    "ratings['rating'] = ratings['rating'].astype(np.int8)\n",
    "ratings['movieId'] = ratings['movieId'].astype(np.int32)\n",
    "ratings = ratings[['rating', 'movieId']]\n",
    "\n",
    "print('\\n\\nRatings: optimized data\\n')\n",
    "print(ratings.info(memory_usage='deep'))"
   ]
  },
  {
   "cell_type": "markdown",
   "metadata": {},
   "source": [
    "Our optimized dataset takes up 80% less memory!\n",
    "\n"
   ]
  },
  {
   "cell_type": "markdown",
   "metadata": {},
   "source": [
    "---\n",
    "\n",
    "\n",
    "### Extracting movie release year from title\n",
    "\n",
    "1. Remove movies without a year in the title"
   ]
  },
  {
   "cell_type": "code",
   "execution_count": 3,
   "metadata": {},
   "outputs": [],
   "source": [
    "# List of movies that don't have a year in their name\n",
    "movies_to_remove = {movies['movieId'][i]:movies['title'][i]\n",
    "                    for i in range(len(movies))\n",
    "                    if not ('18' in movies['title'][i]\n",
    "                    or '19' in movies['title'][i]\n",
    "                    or '20' in movies['title'][i])}\n",
    "\n",
    "# Remove said movies from our datasets\n",
    "ratings = ratings.loc[~ratings['movieId'].isin(movies_to_remove)].reset_index(drop=True)\n",
    "movies = movies.loc[~movies['movieId'].isin(movies_to_remove)].reset_index(drop=True)"
   ]
  },
  {
   "cell_type": "markdown",
   "metadata": {},
   "source": [
    "2. Label the movies as 'Old', 'Medium', or 'New'"
   ]
  },
  {
   "cell_type": "code",
   "execution_count": 4,
   "metadata": {},
   "outputs": [],
   "source": [
    "# Function to pull year from the end of the movie title\n",
    "def extract_year(title):\n",
    "    if title.find('(') < 0:\n",
    "        return int(title[:4])\n",
    "\n",
    "    return extract_year(title[title.find('(')+1:])\n",
    "\n",
    "\n",
    "# Remove any extra spaces\n",
    "movies['title'] = movies['title'].str.strip()\n",
    "\n",
    "movies['year'] = [extract_year(movie) for movie in movies['title']]\n",
    "\n",
    "movies['age'] = 'Old'\n",
    "movies.loc[movies['year'] >= 1970, 'age'] = 'Medium'\n",
    "movies.loc[movies['year'] >= 1990, 'age'] = 'New'"
   ]
  },
  {
   "cell_type": "markdown",
   "metadata": {},
   "source": [
    "---\n",
    "### Data Exploration\n",
    "1. Movie rating stats"
   ]
  },
  {
   "cell_type": "code",
   "execution_count": 5,
   "metadata": {},
   "outputs": [
    {
     "name": "stdout",
     "output_type": "stream",
     "text": [
      "Movies reviewed:  26725\n",
      "Movies with less than 50 reviews:  16202\n",
      "Average number of ratings for a movie:  748\n",
      "Standard deviation of ratings:  3086\n"
     ]
    }
   ],
   "source": [
    "ratings_count = ratings.groupby('movieId').count()\n",
    "movies_count = movies.groupby('movieId').count()\n",
    "ratings_count.reset_index(inplace=True)\n",
    "movies_count = movies_count.reset_index()[['movieId', 'title']]\n",
    "\n",
    "num_movies = ratings_count.count()[0]\n",
    "under_50_ratings = ratings_count.loc[ratings_count['rating'] < 50].count()[0]\n",
    "avg_rating = int(ratings_count['rating'].mean())\n",
    "std_rating = int(ratings_count['rating'].std())\n",
    "\n",
    "\n",
    "print('Movies reviewed:  {}'.format(num_movies))\n",
    "print('Movies with less than 50 reviews:  {}'.format(under_50_ratings))\n",
    "print('Average number of ratings for a movie:  {}'.format(avg_rating))\n",
    "print('Standard deviation of ratings:  {}'.format(std_rating))"
   ]
  },
  {
   "cell_type": "markdown",
   "metadata": {},
   "source": [
    "It would be interesting to see if the movies with fewer ratings will skew the ML results.  For example there are over 26,000 different movies, and over 60% of movies have less than 50 reviews, even though the average number of reviews for a movie is over 700.  That explains the high standard deviation.\n",
    "\n",
    "2. Movie rating distribution"
   ]
  },
  {
   "cell_type": "code",
   "execution_count": 6,
   "metadata": {},
   "outputs": [
    {
     "data": {
      "image/png": "[encoded data removed]",
      "text/plain": [
       "<Figure size 936x216 with 1 Axes>"
      ]
     },
     "metadata": {
      "needs_background": "light"
     },
     "output_type": "display_data"
    }
   ],
   "source": [
    "plt.figure(figsize=(13, 3))\n",
    "plt.hist(ratings_count['rating'], bins=40)\n",
    "plt.title('Distribution of the Count of Ratings per Movie')\n",
    "plt.show()"
   ]
  },
  {
   "cell_type": "code",
   "execution_count": 7,
   "metadata": {},
   "outputs": [
    {
     "data": {
      "image/png": "[encoded data removed]",
      "text/plain": [
       "<Figure size 936x216 with 1 Axes>"
      ]
     },
     "metadata": {
      "needs_background": "light"
     },
     "output_type": "display_data"
    }
   ],
   "source": [
    "plt.figure(figsize=(13, 3))\n",
    "plt.hist(ratings_count.loc[ratings_count['rating'] > 10000]['rating'], bins=50)\n",
    "plt.title('Movies With More Than 10,000 Ratings')\n",
    "plt.show()"
   ]
  },
  {
   "cell_type": "code",
   "execution_count": 8,
   "metadata": {},
   "outputs": [
    {
     "data": {
      "image/png": "[encoded data removed]",
      "text/plain": [
       "<Figure size 936x216 with 1 Axes>"
      ]
     },
     "metadata": {
      "needs_background": "light"
     },
     "output_type": "display_data"
    }
   ],
   "source": [
    "plt.figure(figsize=(13, 3))\n",
    "plt.hist(ratings_count.loc[ratings_count['rating'] < 10000]['rating'], bins=40)\n",
    "plt.title('Movies With Less Than 10,000 Ratings')\n",
    "plt.show()"
   ]
  },
  {
   "cell_type": "code",
   "execution_count": 9,
   "metadata": {},
   "outputs": [
    {
     "data": {
      "image/png": "[encoded data removed]",
      "text/plain": [
       "<Figure size 936x216 with 1 Axes>"
      ]
     },
     "metadata": {
      "needs_background": "light"
     },
     "output_type": "display_data"
    }
   ],
   "source": [
    "plt.figure(figsize=(13, 3))\n",
    "plt.hist(ratings_count.loc[ratings_count['rating'] < 50]['rating'], bins=50)\n",
    "plt.title('Movies With Less Than 50 Ratings')\n",
    "plt.show()"
   ]
  },
  {
   "cell_type": "markdown",
   "metadata": {},
   "source": [
    "3. Unique movies"
   ]
  },
  {
   "cell_type": "code",
   "execution_count": 10,
   "metadata": {},
   "outputs": [
    {
     "name": "stdout",
     "output_type": "stream",
     "text": [
      "Count of unique \"movieId\" in ratings: 26725\n",
      "Count of unique \"movieId\" in movies: 27259\n"
     ]
    }
   ],
   "source": [
    "print('Count of unique \"movieId\" in ratings: {}'.format(ratings_count.count().values[0]))\n",
    "print('Count of unique \"movieId\" in movies: {}'.format(movies_count.count().values[0]))"
   ]
  },
  {
   "cell_type": "markdown",
   "metadata": {},
   "source": [
    "The next step is to find movies that are in one table and not the other, and see if they're outliers we can remove."
   ]
  },
  {
   "cell_type": "markdown",
   "metadata": {},
   "source": [
    "#### Prediction: ML with the number of ratings may be more accurate than using Genre or Age.\n",
    "My theory is that movies with more reviews will have a higher rating. Generally, people are more likely to watch a movie if a friend recommended it, and less likely to watch a movie if a friend didn't like it.  Also, movies with a large budget and top producers/actors will usually \n",
    "have a higher video quality than a movie created by first-time producers/actors."
   ]
  }
 ],
 "metadata": {
  "kernelspec": {
   "display_name": "Python 3",
   "language": "python",
   "name": "python3"
  },
  "language_info": {
   "codemirror_mode": {
    "name": "ipython",
    "version": 3
   },
   "file_extension": ".py",
   "mimetype": "text/x-python",
   "name": "python",
   "nbconvert_exporter": "python",
   "pygments_lexer": "ipython3",
   "version": "3.7.0"
  }
 },
 "nbformat": 4,
 "nbformat_minor": 2
}
